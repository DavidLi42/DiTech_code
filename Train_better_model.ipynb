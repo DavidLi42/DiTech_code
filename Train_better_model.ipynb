{
 "cells": [
  {
   "cell_type": "markdown",
   "metadata": {},
   "source": [
    "## Step 0 import necessary module and load data"
   ]
  },
  {
   "cell_type": "code",
   "execution_count": null,
   "metadata": {
    "collapsed": false
   },
   "outputs": [],
   "source": [
    "import numpy as np\n",
    "import pandas as pd\n",
    "import matplotlib.pyplot as plt\n",
    "from IPython.display import display # Allows the use of display() for DataFrames\n",
    "\n",
    "# Show matplotlib plots inline (nicely formatted in the notebook)\n",
    "%matplotlib inline\n",
    "\n",
    "import time\n",
    "import datetime\n",
    "import os\n",
    "\n",
    "#import datacleaningp1 as dcp\n",
    "import dcpv2\n",
    "reload(dcpv2)"
   ]
  },
  {
   "cell_type": "code",
   "execution_count": null,
   "metadata": {
    "collapsed": false
   },
   "outputs": [],
   "source": [
    "# load training data\n",
    "data_train_all_v1 = pd.read_csv('TrainingData_fixed_4_test_1.csv')\n",
    "print 'Training data read sucessfully'\n",
    "display(data_train_all_v1.describe())"
   ]
  },
  {
   "cell_type": "code",
   "execution_count": null,
   "metadata": {
    "collapsed": false
   },
   "outputs": [],
   "source": [
    "# load test data\n",
    "data_test_all_v1 = pd.read_csv('test_data_1.csv')\n",
    "print 'Test data read successfully'\n",
    "display(data_test_all_v1.describe())"
   ]
  },
  {
   "cell_type": "code",
   "execution_count": null,
   "metadata": {
    "collapsed": false
   },
   "outputs": [],
   "source": [
    "data_test_backup = data_test_all_v1.copy()\n",
    "data_test_all_v1.drop(['date'],axis = 1,inplace = True)"
   ]
  },
  {
   "cell_type": "markdown",
   "metadata": {},
   "source": [
    "## Step 1 feature selection and linear regression"
   ]
  },
  {
   "cell_type": "code",
   "execution_count": null,
   "metadata": {
    "collapsed": false
   },
   "outputs": [],
   "source": [
    "### shuffle training data\n",
    "from sklearn.utils import shuffle\n",
    "data_train_all = data_train_all_v1.copy()\n",
    "data_train_all = shuffle(data_train_all,random_state = 42)\n",
    "\n",
    "### split label from features\n",
    "label = data_train_all['gaps']\n",
    "data_train_all.drop(['gaps'], axis = 1, inplace= True)\n",
    "\n",
    "### drop apparently irrelavant features\n",
    "data_train_all.drop(['Weather_8','Weather_6'],axis= 1,inplace= True)\n",
    "district_label = data_train_all['district_id']\n",
    "#data_train_all.drop(['district_id'],axis= 1,inplace= True)\n",
    "\n",
    "### feature_preprocessing\n",
    "feature_cols = data_train_all.columns\n",
    "from sklearn import preprocessing\n",
    "min_max_scaler = preprocessing.MinMaxScaler()\n",
    "data_train_scaled = min_max_scaler.fit_transform(data_train_all)\n",
    "data_train_scaled = pd.DataFrame(data = data_train_scaled,columns = feature_cols)\n",
    "#data_train_scaled['district_id'] = district_label\n",
    "feature_cols = data_train_scaled.columns\n",
    "print feature_cols\n",
    "\n",
    "### train_test_split\n",
    "from sklearn.cross_validation import train_test_split\n",
    "X_train, X_test, y_train, y_test = train_test_split(data_train_scaled, label, test_size=0.3, random_state=42)"
   ]
  },
  {
   "cell_type": "code",
   "execution_count": null,
   "metadata": {
    "collapsed": false
   },
   "outputs": [],
   "source": [
    "### feature selection using Lasso\n",
    "from sklearn.feature_selection import SelectFromModel\n",
    "from sklearn.linear_model import LassoCV,Lasso\n",
    "from sklearn.metrics import mean_absolute_error,r2_score\n",
    "\n",
    "reg_lasso = LassoCV(max_iter=5000)\n",
    "sfm = SelectFromModel(reg_lasso, threshold='0.01*mean') ### feature weights lower than threshhold will be removed\n",
    "sfm.fit(X_train, y_train)\n",
    "\n",
    "mask = sfm.get_support()\n",
    "feature_selected = feature_cols[mask]\n",
    "print feature_selected\n",
    "\n",
    "X_train2 = X_train[feature_selected]\n",
    "X_test2 = X_test[feature_selected]\n",
    "\n",
    "### Train a ridge regression model\n",
    "from sklearn import linear_model\n",
    "from sklearn.grid_search import GridSearchCV\n",
    "\n",
    "rrm = linear_model.Ridge()\n",
    "#parameters = {'alpha':np.logspace(0,2,10)}\n",
    "parameters = {'alpha':np.linspace(0,10,10)}\n",
    "grid_rr = GridSearchCV(rrm, parameters,scoring = 'mean_absolute_error',cv = 10)\n",
    "\n",
    "grid_rr.fit(X_train2,y_train)\n",
    "\n",
    "rr_final = grid_rr.best_estimator_\n",
    "print rr_final.get_params()\n",
    "\n",
    "y_pred = rr_final.predict(X_train2)\n",
    "print 'r-square on training set: ',r2_score(y_train,y_pred)\n",
    "print 'mae on training set: ',mean_absolute_error(y_train,y_pred)\n",
    "y_pred = rr_final.predict(X_test2)\n",
    "print 'r-square on test set: ',r2_score(y_test,y_pred)\n",
    "print 'mae on test set: ' ,mean_absolute_error(y_test,y_pred)"
   ]
  },
  {
   "cell_type": "code",
   "execution_count": null,
   "metadata": {
    "collapsed": false
   },
   "outputs": [],
   "source": [
    "### measure performance on real test set\n",
    "data_test_all = data_test_all_v1.copy()\n",
    "district_label_test = data_test_all['district_id']\n",
    "#data_test_all.drop(['district_id','Weather_6','Weather_8'],axis = 1,inplace = True)\n",
    "data_test_all.drop(['Weather_6','Weather_8'],axis = 1,inplace = True)\n",
    "feature_cols = data_test_all.columns\n",
    "data_test_scaled = min_max_scaler.transform(data_test_all)\n",
    "data_test_scaled = pd.DataFrame(data = data_test_scaled,columns = feature_cols)\n",
    "#data_test_scaled['district_id'] = district_label_test\n",
    "\n",
    "data_test2 = data_test_scaled[feature_selected]\n",
    "gaps_pred = rr_final.predict(data_test2)\n",
    "\n",
    "data_test_backup['gaps'] = gaps_pred\n",
    "\n",
    "import score\n",
    "reload(score)\n",
    "output_test_pred = score.output_required_format(data_test_backup)\n",
    "output_test_pred['district_id'] = output_test_pred['district_id'].apply(dcpv2.num2str)\n",
    "output_test_pred.to_csv('test_pred_1.csv',index = False)\n",
    "score.measure_performance_mae()\n",
    "score.measure_performance_mape()"
   ]
  },
  {
   "cell_type": "markdown",
   "metadata": {},
   "source": [
    "## Step 2 Train better kNN with selected features"
   ]
  },
  {
   "cell_type": "code",
   "execution_count": null,
   "metadata": {
    "collapsed": false
   },
   "outputs": [],
   "source": [
    "data_train_knn = data_train_scaled[feature_selected]\n",
    "data_test_knn = data_test_scaled[feature_selected]\n",
    "# label is still label\n",
    "\n",
    "#data_train_knn['district_id'] = district_label\n",
    "#data_test_knn['district_id'] = district_label_test\n",
    "#data_train_knn['time'] = data_train_all_v1['time']\n",
    "#data_test_knn['time'] = data_test_backup['time']\n",
    "display(data_train_knn.head())\n",
    "display(data_test_knn.head())"
   ]
  },
  {
   "cell_type": "code",
   "execution_count": null,
   "metadata": {
    "collapsed": false
   },
   "outputs": [],
   "source": [
    "district_number = 66\n",
    "#test_set_size = 0.3 #use all training data\n",
    "num_neighbors = 25\n",
    "\n",
    "#data_train_all = data_train_all_v2\n",
    "\n",
    "### import necessary moduels in sklearn\n",
    "#from sklearn.utils import shuffle\n",
    "#from sklearn import preprocessing\n",
    "#from sklearn.cross_validation import train_test_split\n",
    "from sklearn.neighbors import KNeighborsRegressor\n",
    "from sklearn.metrics import mean_absolute_error,r2_score\n",
    "import dcpv2\n",
    "reload(dcpv2)\n",
    "import score\n",
    "reload(score)\n",
    "###\n",
    "\n",
    "neigh = KNeighborsRegressor(n_neighbors= num_neighbors)\n",
    "neigh.fit(data_train_knn,label)\n",
    "\n",
    "gaps_pred = neigh.predict(data_test_knn)\n",
    "\n",
    "data_test_backup['gaps'] = gaps_pred\n",
    "output_test_pred = score.output_required_format(data_test_backup)\n",
    "output_test_pred['district_id'] = output_test_pred['district_id'].apply(dcpv2.num2str)\n",
    "#display(output_test_pred)\n",
    "output_test_pred.to_csv('test_pred_2.csv',index = False,header = False)\n",
    "score.measure_performance_mae(result_file = 'test_pred_2.csv')\n",
    "score.measure_performance_mape(result_file = 'test_pred_2.csv')"
   ]
  },
  {
   "cell_type": "code",
   "execution_count": null,
   "metadata": {
    "collapsed": false
   },
   "outputs": [],
   "source": [
    "from sklearn.ensemble import GradientBoostingRegressor\n",
    "# Fit regression model\n",
    "#params = {'n_estimators': 500, 'max_depth': 4, 'min_samples_split': 1,\n",
    "          #'learning_rate': 0.01, 'loss': 'ls'}\n",
    "#gbr = GradientBoostingRegressor(**params)\n",
    "gbr = GradientBoostingRegressor(loss = 'lad')\n",
    "params_grid = {'n_estimators': [10,30,100,300], 'max_depth': np.arange(10)+2,\n",
    "          'learning_rate': [0.05,0.1,0.15,0.45]}\n",
    "\n",
    "gbr_grid =  GridSearchCV(gbr, params_grid,scoring = 'mean_absolute_error',cv = 10)\n",
    "\n",
    "gbr_grid.fit(data_train_knn,label)\n",
    "\n",
    "gbr_final = gbr_grid.best_estimator_\n",
    "print gbr_final.get_params()\n",
    "\n",
    "gaps_pred = gbr_final.predict(data_test_knn)\n",
    "gbr.fit(data_train_knn,label)\n",
    "\n",
    "#gaps_pred = gbr.predict(data_test_knn)\n",
    "data_test_backup['gaps'] = gaps_pred\n",
    "output_test_pred = score.output_required_format(data_test_backup)\n",
    "output_test_pred['district_id'] = output_test_pred['district_id'].apply(dcpv2.num2str)\n",
    "#display(output_test_pred)\n",
    "output_test_pred.to_csv('test_pred_3.csv',index = False,header = False)\n",
    "score.measure_performance_mae(result_file = 'test_pred_3.csv')\n",
    "score.measure_performance_mape(result_file = 'test_pred_3.csv')"
   ]
  },
  {
   "cell_type": "code",
   "execution_count": null,
   "metadata": {
    "collapsed": false
   },
   "outputs": [],
   "source": [
    "y_train = gbr_final.predict(data_train_knn)\n",
    "print mean_absolute_error(label,y_train)"
   ]
  },
  {
   "cell_type": "code",
   "execution_count": null,
   "metadata": {
    "collapsed": true
   },
   "outputs": [],
   "source": []
  }
 ],
 "metadata": {
  "kernelspec": {
   "display_name": "Python [Root]",
   "language": "python",
   "name": "Python [Root]"
  },
  "language_info": {
   "codemirror_mode": {
    "name": "ipython",
    "version": 2
   },
   "file_extension": ".py",
   "mimetype": "text/x-python",
   "name": "python",
   "nbconvert_exporter": "python",
   "pygments_lexer": "ipython2",
   "version": "2.7.12"
  }
 },
 "nbformat": 4,
 "nbformat_minor": 0
}
