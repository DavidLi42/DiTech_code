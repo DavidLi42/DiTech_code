{
 "cells": [
  {
   "cell_type": "markdown",
   "metadata": {},
   "source": [
    "## Step 0 import necessary module and load data"
   ]
  },
  {
   "cell_type": "code",
   "execution_count": null,
   "metadata": {
    "collapsed": true
   },
   "outputs": [],
   "source": [
    "import numpy as np\n",
    "import pandas as pd\n",
    "import matplotlib.pyplot as plt\n",
    "from IPython.display import display # Allows the use of display() for DataFrames\n",
    "\n",
    "# Show matplotlib plots inline (nicely formatted in the notebook)\n",
    "%matplotlib inline\n",
    "\n",
    "import time\n",
    "import datetime\n",
    "import os\n",
    "\n",
    "#import datacleaningp1 as dcp\n",
    "import dcpv2\n",
    "reload(dcpv2)"
   ]
  },
  {
   "cell_type": "code",
   "execution_count": null,
   "metadata": {
    "collapsed": true
   },
   "outputs": [],
   "source": [
    "# load training data\n",
    "data_train_all = pd.read_csv('TrainingData_fixed_4_test_1.csv')\n",
    "print 'Training data read sucessfully'\n",
    "display(data_train_all.describe())"
   ]
  },
  {
   "cell_type": "code",
   "execution_count": null,
   "metadata": {
    "collapsed": true
   },
   "outputs": [],
   "source": [
    "# load test data\n",
    "data_test_all = pd.read_csv('test_data_1.csv')\n",
    "print 'Test data read successfully'"
   ]
  },
  {
   "cell_type": "code",
   "execution_count": null,
   "metadata": {
    "collapsed": true
   },
   "outputs": [],
   "source": [
    "data_test_backup = data_test_all.copy()\n",
    "data_test_all.drop(['date'],axis = 1,inplace = True)"
   ]
  },
  {
   "cell_type": "markdown",
   "metadata": {},
   "source": [
    "## Step 1 feature selection and linear regression"
   ]
  },
  {
   "cell_type": "code",
   "execution_count": null,
   "metadata": {
    "collapsed": true
   },
   "outputs": [],
   "source": [
    "### shuffle training data\n",
    "from sklearn.utils import shuffle\n",
    "data_train_all = shuffle(data_train_all,random_state = 42)\n",
    "\n",
    "### split label from features\n",
    "label = data_train_all['gaps']\n",
    "data_train_all.drop(['gaps'], axis = 1, inplace= True)\n",
    "\n",
    "### drop apparently irrelavant features\n",
    "data_train_all.drop(['Weather_8','Weather_6'],axis= 1,inplace= True)\n",
    "district_label = data_train_all['district_id']\n",
    "data_train_all.drop(['district_id'],axis= 1,inplace= True)\n",
    "\n",
    "### feature_preprocessing\n",
    "feature_cols = data_train_all.columns\n",
    "from sklearn import preprocessing\n",
    "min_max_scaler = preprocessing.MinMaxScaler()\n",
    "data_train_scaled = min_max_scaler.fit_transform(data_train_all)\n",
    "data_train_scaled = pd.DataFrame(data = data_train_scaled,columns = feature_cols)\n",
    "data_train_scaled['district_id'] = district_label\n",
    "feature_cols = data_train_scaled.columns\n",
    "\n",
    "### train_test_split\n",
    "from sklearn.cross_validation import train_test_split\n",
    "X_train, X_test, y_train, y_test = train_test_split(data_train_scaled, label, test_size=0.3, random_state=42)"
   ]
  },
  {
   "cell_type": "code",
   "execution_count": null,
   "metadata": {
    "collapsed": true
   },
   "outputs": [],
   "source": [
    "### feature selection using Lasso\n",
    "from sklearn.feature_selection import SelectFromModel\n",
    "from sklearn.linear_model import LassoCV,Lasso\n",
    "from sklearn.metrics import mean_absolute_error,r2_score\n",
    "\n",
    "reg_lasso = LassoCV(max_iter=5000)\n",
    "sfm = SelectFromModel(reg_lasso, threshold='2*mean') ### feature weights lower than threshhold will be removed\n",
    "sfm.fit(X_train_selected, y_train)\n",
    "\n",
    "mask = sfm.get_support()\n",
    "feature_selected = features_cols[mask]\n",
    "print feature_selected\n",
    "\n",
    "X_train2 = X_train[feature_selected]\n",
    "X_test2 = X_test[featuer_selected]\n",
    "\n",
    "### Train a ridge regression model\n",
    "from sklearn import linear_model\n",
    "from sklearn.grid_search import GridSearchCV\n",
    "\n",
    "rrm = linear_model.Ridge()\n",
    "#parameters = {'alpha':np.logspace(0,2,10)}\n",
    "parameters = {'alpha':np.linspace(1,10,10)}\n",
    "grid_rr = GridSearchCV(rrm, parameters,scoring = 'mean_absolute_error',cv = 10)\n",
    "\n",
    "grid_rr.fit(X_train2,y_train)\n",
    "\n",
    "rr_final = grid_rr.best_estimator_\n",
    "print rr_final.get_params()\n",
    "\n",
    "y_pred = rr_final.predict(X_train2)\n",
    "print 'r-square on training set: ',r2_score(y_train,y_pred)\n",
    "print 'mae on training set: ',mean_absolute_error(y_train,y_pred)\n",
    "y_pred = rr_final.predict(X_test2)\n",
    "print 'r-square on test set: ',r2_score(y_test,y_pred)\n",
    "print 'mae on test set: ' ,mean_absolute_error(y_test,y_pred)"
   ]
  },
  {
   "cell_type": "code",
   "execution_count": null,
   "metadata": {
    "collapsed": true
   },
   "outputs": [],
   "source": [
    "### measure performance on real test set\n",
    "district_label_test = data_test_all['district_id']\n",
    "data_test_all.drop(['district_id'],axis = 1,inplace = True)\n",
    "feature_col = data_test_all.columns\n",
    "data_test_scaled = min_max_scaler.transform(data_test_all)\n",
    "data_test_scaled['district_id'] = district_label_test\n",
    "\n",
    "data_test2 = data_test_scaled[feature_selected]\n",
    "gaps_pred = rr_final.predict(data_test2)\n",
    "\n",
    "data_test_backup['gaps'] = gaps_pred\n",
    "\n",
    "import score\n",
    "output_test_pred = score.output_required_format(data_test_backup)\n",
    "output_test_pred.to_csv('test_pred_1.csv',index = False)\n",
    "score.measure_performace()"
   ]
  }
 ],
 "metadata": {
  "kernelspec": {
   "display_name": "Python [Root]",
   "language": "python",
   "name": "Python [Root]"
  },
  "language_info": {
   "codemirror_mode": {
    "name": "ipython",
    "version": 2
   },
   "file_extension": ".py",
   "mimetype": "text/x-python",
   "name": "python",
   "nbconvert_exporter": "python",
   "pygments_lexer": "ipython2",
   "version": "2.7.12"
  }
 },
 "nbformat": 4,
 "nbformat_minor": 0
}
