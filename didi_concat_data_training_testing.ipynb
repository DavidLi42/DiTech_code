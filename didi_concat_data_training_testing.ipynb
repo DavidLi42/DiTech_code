{
 "cells": [
  {
   "cell_type": "code",
   "execution_count": 4,
   "metadata": {
    "collapsed": false
   },
   "outputs": [
    {
     "name": "stdout",
     "output_type": "stream",
     "text": [
      "['2016-01-01', '2016-01-02', '2016-01-03', '2016-01-04', '2016-01-05', '2016-01-06', '2016-01-07', '2016-01-08', '2016-01-09', '2016-01-10', '2016-01-11', '2016-01-12', '2016-01-13', '2016-01-14', '2016-01-15', '2016-01-16', '2016-01-17', '2016-01-18', '2016-01-19', '2016-01-20']\n"
     ]
    }
   ],
   "source": [
    "import numpy as np\n",
    "import pandas as pd\n",
    "import matplotlib.pyplot as plt\n",
    "from IPython.display import display # Allows the use of display() for DataFrames\n",
    "\n",
    "# Show matplotlib plots inline (nicely formatted in the notebook)\n",
    "%matplotlib inline\n",
    "\n",
    "import time\n",
    "import datetime\n",
    "import os\n",
    "\n",
    "#import datacleaningp1 as dcp\n",
    "import dcpv2\n",
    "reload(dcpv2)\n",
    "date_list = dcpv2.datelist((2016, 1, 1), (2016, 1, 21))  ### generate time list of training data\n",
    "print date_list"
   ]
  },
  {
   "cell_type": "markdown",
   "metadata": {},
   "source": [
    "## 1. prepare training data"
   ]
  },
  {
   "cell_type": "code",
   "execution_count": 5,
   "metadata": {
    "collapsed": false,
    "scrolled": false
   },
   "outputs": [
    {
     "name": "stdout",
     "output_type": "stream",
     "text": [
      "time needed to convert training data_2016-01-01:\n",
      "430.160000086\n",
      "time needed to convert training data_2016-01-02:\n",
      "279.463999987\n",
      "time needed to convert training data_2016-01-03:\n",
      "279.799999952\n",
      "time needed to convert training data_2016-01-04:\n",
      "332.031000137\n",
      "time needed to convert training data_2016-01-05:\n",
      "334.874000072\n",
      "time needed to convert training data_2016-01-06:\n",
      "321.673000097\n",
      "time needed to convert training data_2016-01-07:\n",
      "292.339999914\n",
      "time needed to convert training data_2016-01-08:\n",
      "340.526000023\n",
      "time needed to convert training data_2016-01-09:\n",
      "318.278000116\n",
      "time needed to convert training data_2016-01-10:\n",
      "324.786000013\n",
      "time needed to convert training data_2016-01-11:\n",
      "380.582000017\n",
      "time needed to convert training data_2016-01-12:\n",
      "325.786000013\n",
      "time needed to convert training data_2016-01-13:\n",
      "332.986000061\n",
      "time needed to convert training data_2016-01-14:\n",
      "332.582000017\n",
      "time needed to convert training data_2016-01-15:\n",
      "383.482000113\n",
      "time needed to convert training data_2016-01-16:\n",
      "375.994999886\n",
      "time needed to convert training data_2016-01-17:\n",
      "321.404999971\n",
      "time needed to convert training data_2016-01-18:\n",
      "347.59100008\n",
      "time needed to convert training data_2016-01-19:\n",
      "402.631999969\n",
      "time needed to convert training data_2016-01-20:\n",
      "444.961999893\n",
      "haha lege ha, data cleaning finished\n"
     ]
    }
   ],
   "source": [
    "import dcpv2\n",
    "reload(dcpv2)\n",
    "dcpv2.train_run()"
   ]
  },
  {
   "cell_type": "code",
   "execution_count": 8,
   "metadata": {
    "collapsed": false,
    "scrolled": true
   },
   "outputs": [
    {
     "name": "stdout",
     "output_type": "stream",
     "text": [
      "merged_training_data_2016-01-01 concat finished\n",
      "merged_training_data_2016-01-02 concat finished\n",
      "merged_training_data_2016-01-03 concat finished\n",
      "merged_training_data_2016-01-04 concat finished\n",
      "merged_training_data_2016-01-05 concat finished\n",
      "merged_training_data_2016-01-06 concat finished\n",
      "merged_training_data_2016-01-07 concat finished\n",
      "merged_training_data_2016-01-08 concat finished\n",
      "merged_training_data_2016-01-09 concat finished\n",
      "merged_training_data_2016-01-10 concat finished\n",
      "merged_training_data_2016-01-11 concat finished\n",
      "merged_training_data_2016-01-12 concat finished\n",
      "merged_training_data_2016-01-13 concat finished\n",
      "merged_training_data_2016-01-14 concat finished\n",
      "merged_training_data_2016-01-15 concat finished\n",
      "merged_training_data_2016-01-16 concat finished\n",
      "merged_training_data_2016-01-17 concat finished\n",
      "merged_training_data_2016-01-18 concat finished\n",
      "merged_training_data_2016-01-19 concat finished\n",
      "merged_training_data_2016-01-20 concat finished\n"
     ]
    }
   ],
   "source": [
    "### prepare training data\n",
    "import dcpv2\n",
    "reload(dcpv2)\n",
    "dcpv2.concat_train_data()"
   ]
  },
  {
   "cell_type": "markdown",
   "metadata": {
    "collapsed": false
   },
   "source": [
    "## 2. prepare test data"
   ]
  },
  {
   "cell_type": "code",
   "execution_count": 13,
   "metadata": {
    "collapsed": false
   },
   "outputs": [],
   "source": [
    "import dcpv2\n",
    "reload(dcpv2)\n",
    "dcpv2.run_test()"
   ]
  },
  {
   "cell_type": "code",
   "execution_count": null,
   "metadata": {
    "collapsed": true
   },
   "outputs": [],
   "source": []
  }
 ],
 "metadata": {
  "kernelspec": {
   "display_name": "Python [Root]",
   "language": "python",
   "name": "Python [Root]"
  },
  "language_info": {
   "codemirror_mode": {
    "name": "ipython",
    "version": 2
   },
   "file_extension": ".py",
   "mimetype": "text/x-python",
   "name": "python",
   "nbconvert_exporter": "python",
   "pygments_lexer": "ipython2",
   "version": "2.7.12"
  }
 },
 "nbformat": 4,
 "nbformat_minor": 0
}
